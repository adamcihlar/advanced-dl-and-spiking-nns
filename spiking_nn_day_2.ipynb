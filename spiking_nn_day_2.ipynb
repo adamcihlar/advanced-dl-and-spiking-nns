{
  "nbformat": 4,
  "nbformat_minor": 0,
  "metadata": {
    "colab": {
      "provenance": [],
      "gpuType": "T4"
    },
    "kernelspec": {
      "name": "python3",
      "display_name": "Python 3"
    },
    "language_info": {
      "name": "python"
    },
    "accelerator": "GPU",
    "gpuClass": "standard"
  },
  "cells": [
    {
      "cell_type": "code",
      "execution_count": 1,
      "metadata": {
        "colab": {
          "base_uri": "https://localhost:8080/"
        },
        "id": "RUt49dRpFza4",
        "outputId": "380ec0ff-f961-4f1c-a0f6-91ee4ef5853f"
      },
      "outputs": [
        {
          "output_type": "stream",
          "name": "stdout",
          "text": [
            "Mounted at /content/drive\n"
          ]
        }
      ],
      "source": [
        "from google.colab import drive\n",
        "drive.mount('/content/drive')"
      ]
    },
    {
      "cell_type": "code",
      "source": [
        "import pandas as pd\n",
        "import numpy as np\n",
        "from sklearn.model_selection import train_test_split\n",
        "from tensorflow.keras import Sequential\n",
        "from tensorflow.keras.layers import Dense, Dropout, BatchNormalization\n",
        "from tensorflow.keras.optimizers import Adam, SGD\n",
        "from matplotlib import pyplot\n",
        "from tensorflow.keras.utils import plot_model\n",
        "from sklearn.preprocessing import OneHotEncoder"
      ],
      "metadata": {
        "id": "n3GU8JiuG4SS"
      },
      "execution_count": 2,
      "outputs": []
    },
    {
      "cell_type": "markdown",
      "source": [
        "# Quiz 1"
      ],
      "metadata": {
        "id": "OaKiDu0AKcES"
      }
    },
    {
      "cell_type": "code",
      "source": [
        "data = pd.read_csv('drive/MyDrive/Colab_Notebooks_2/data/train.csv')"
      ],
      "metadata": {
        "id": "X09CsYqIGxlN"
      },
      "execution_count": 3,
      "outputs": []
    },
    {
      "cell_type": "code",
      "source": [
        "y = data.iloc[:,0]\n",
        "X = data.iloc[:,1:]\n",
        "X = X/255\n",
        "X_train, X_test, y_train, y_test = train_test_split(X, y, test_size=0.3, random_state=42)"
      ],
      "metadata": {
        "id": "_AB7KqvmHR83"
      },
      "execution_count": 4,
      "outputs": []
    },
    {
      "cell_type": "code",
      "source": [
        "ohc = OneHotEncoder(sparse_output=False)\n",
        "y_train = ohc.fit_transform(np.array(y_train).reshape(-1, 1))\n",
        "y_test = ohc.transform(np.array(y_test).reshape(-1, 1))\n",
        "n_features = X_train.shape[1]"
      ],
      "metadata": {
        "id": "syMrVWwtIkys"
      },
      "execution_count": 5,
      "outputs": []
    },
    {
      "cell_type": "code",
      "source": [
        "# RELU\n",
        "# define model\n",
        "model = Sequential()\n",
        "model.add(Dense(10, activation='relu', kernel_initializer='he_normal', input_shape=(n_features,)))\n",
        "model.add(Dense(20, activation='relu', kernel_initializer='he_normal'))\n",
        "model.add(Dense(5, activation='relu', kernel_initializer='he_normal'))\n",
        "model.add(Dense(10, activation='softmax'))\n",
        "# compile the model\n",
        "sgd = Adam()\n",
        "model.compile(optimizer=sgd, loss='categorical_crossentropy', metrics=['accuracy'])\n",
        "# model.summary()\n",
        "\n",
        "# fit the model\n",
        "history = model.fit(X_train, y_train, epochs=5, batch_size=32, verbose=0, validation_split=0.3)\n",
        "y_pred = model.predict(X_test)\n",
        "acc = sum(np.argmax(y_pred, axis=1)==np.argmax(y_test, axis=1))/y_test.shape[0]\n",
        "print(f'Accuracy ReLU: {acc}')"
      ],
      "metadata": {
        "colab": {
          "base_uri": "https://localhost:8080/"
        },
        "id": "d4qFeXnAGO7e",
        "outputId": "9be94073-a7bb-4d9d-91c9-1dbaa2f5b0e9"
      },
      "execution_count": 53,
      "outputs": [
        {
          "output_type": "stream",
          "name": "stdout",
          "text": [
            "394/394 [==============================] - 1s 2ms/step\n",
            "Accuracy ReLU: 0.8954761904761904\n"
          ]
        }
      ]
    },
    {
      "cell_type": "code",
      "source": [
        "# Sigmoid\n",
        "# define model\n",
        "model = Sequential()\n",
        "model.add(Dense(10, activation='sigmoid', kernel_initializer='he_normal', input_shape=(n_features,)))\n",
        "model.add(Dense(20, activation='sigmoid', kernel_initializer='he_normal'))\n",
        "model.add(Dense(5, activation='sigmoid', kernel_initializer='he_normal'))\n",
        "model.add(Dense(10, activation='softmax'))\n",
        "# compile the model\n",
        "sgd = Adam()\n",
        "model.compile(optimizer=sgd, loss='categorical_crossentropy', metrics=['accuracy'])\n",
        "# model.summary()\n",
        "\n",
        "# fit the model\n",
        "history = model.fit(X_train, y_train, epochs=5, batch_size=32, verbose=0, validation_split=0.3)\n",
        "y_pred = model.predict(X_test)\n",
        "acc = sum(np.argmax(y_pred, axis=1)==np.argmax(y_test, axis=1))/y_test.shape[0]\n",
        "print(f'Accuracy Sigmoid: {acc}')"
      ],
      "metadata": {
        "colab": {
          "base_uri": "https://localhost:8080/"
        },
        "id": "XY26rtG3KjwJ",
        "outputId": "58465398-f161-4741-db1e-155336edc17e"
      },
      "execution_count": 68,
      "outputs": [
        {
          "output_type": "stream",
          "name": "stdout",
          "text": [
            "394/394 [==============================] - 1s 2ms/step\n",
            "Accuracy Sigmoid: 0.7684920634920634\n"
          ]
        }
      ]
    },
    {
      "cell_type": "code",
      "source": [
        "# Tanh\n",
        "# define model\n",
        "model = Sequential()\n",
        "model.add(Dense(10, activation='tanh', kernel_initializer='he_normal', input_shape=(n_features,)))\n",
        "model.add(Dense(20, activation='tanh', kernel_initializer='he_normal'))\n",
        "model.add(Dense(5, activation='tanh', kernel_initializer='he_normal'))\n",
        "model.add(Dense(10, activation='softmax'))\n",
        "# compile the model\n",
        "sgd = Adam()\n",
        "model.compile(optimizer=sgd, loss='categorical_crossentropy', metrics=['accuracy'])\n",
        "# model.summary()\n",
        "\n",
        "# fit the model\n",
        "history = model.fit(X_train, y_train, epochs=5, batch_size=32, verbose=0, validation_split=0.3)\n",
        "y_pred = model.predict(X_test)\n",
        "acc = sum(np.argmax(y_pred, axis=1)==np.argmax(y_test, axis=1))/y_test.shape[0]\n",
        "print(f'Accuracy Tanh: {acc}')"
      ],
      "metadata": {
        "colab": {
          "base_uri": "https://localhost:8080/"
        },
        "id": "Or_1SnWkKzib",
        "outputId": "1d6b0730-3ffa-4015-c1f4-f4a3cb0db379"
      },
      "execution_count": 55,
      "outputs": [
        {
          "output_type": "stream",
          "name": "stdout",
          "text": [
            "394/394 [==============================] - 2s 4ms/step\n",
            "Accuracy Tanh: 0.888015873015873\n"
          ]
        }
      ]
    },
    {
      "cell_type": "markdown",
      "source": [
        "# Quiz 2"
      ],
      "metadata": {
        "id": "w5CUnW5kO12S"
      }
    },
    {
      "cell_type": "code",
      "source": [
        "# RELU\n",
        "# define model\n",
        "model = Sequential()\n",
        "model.add(Dense(10, activation='relu', kernel_initializer='he_normal', input_shape=(n_features,)))\n",
        "model.add(Dense(20, activation='relu', kernel_initializer='he_normal'))\n",
        "model.add(Dense(5, activation='relu', kernel_initializer='he_normal'))\n",
        "model.add(Dense(10, activation='softmax'))\n",
        "# compile the model\n",
        "sgd = Adam()\n",
        "model.compile(optimizer=sgd, loss='categorical_crossentropy', metrics=['accuracy'])\n",
        "# model.summary()\n",
        "\n",
        "# fit the model\n",
        "history = model.fit(X_train, y_train, epochs=10, batch_size=32, verbose=0)\n",
        "y_pred = model.predict(X_test)\n",
        "acc = sum(np.argmax(y_pred, axis=1)==np.argmax(y_test, axis=1))/y_test.shape[0]\n",
        "print(f'Accuracy w/o Dropout: {acc}')"
      ],
      "metadata": {
        "colab": {
          "base_uri": "https://localhost:8080/"
        },
        "id": "EGGyNjlpO1Lo",
        "outputId": "5f240eb5-728b-4fa0-d582-d3dafcea3ba5"
      },
      "execution_count": 62,
      "outputs": [
        {
          "output_type": "stream",
          "name": "stdout",
          "text": [
            "394/394 [==============================] - 1s 2ms/step\n",
            "Accuracy ReLU: 0.8809523809523809\n"
          ]
        }
      ]
    },
    {
      "cell_type": "code",
      "source": [
        "# RELU\n",
        "# define model\n",
        "model = Sequential()\n",
        "model.add(Dense(10, activation='relu', kernel_initializer='he_normal', input_shape=(n_features,)))\n",
        "model.add(Dropout(0.5))\n",
        "model.add(Dense(20, activation='relu', kernel_initializer='he_normal'))\n",
        "model.add(Dropout(0.5))\n",
        "model.add(Dense(5, activation='relu', kernel_initializer='he_normal'))\n",
        "model.add(Dropout(0.5))\n",
        "model.add(Dense(10, activation='softmax'))\n",
        "# compile the model\n",
        "sgd = Adam()\n",
        "model.compile(optimizer=sgd, loss='categorical_crossentropy', metrics=['accuracy'])\n",
        "# model.summary()\n",
        "\n",
        "# fit the model\n",
        "history = model.fit(X_train, y_train, epochs=10, batch_size=32, verbose=0)\n",
        "y_pred = model.predict(X_test)\n",
        "acc = sum(np.argmax(y_pred, axis=1)==np.argmax(y_test, axis=1))/y_test.shape[0]\n",
        "print(f'Accuracy w/ Dropout: {acc}')"
      ],
      "metadata": {
        "colab": {
          "base_uri": "https://localhost:8080/"
        },
        "id": "keTCoJsZf3uI",
        "outputId": "e8b3c355-47c0-4e4d-caa9-d440710d440b"
      },
      "execution_count": 65,
      "outputs": [
        {
          "output_type": "stream",
          "name": "stdout",
          "text": [
            "394/394 [==============================] - 1s 2ms/step\n",
            "Accuracy w/ Dropout: 0.47015873015873016\n"
          ]
        }
      ]
    },
    {
      "cell_type": "code",
      "source": [
        "# RELU\n",
        "# define model\n",
        "model = Sequential()\n",
        "model.add(Dense(10, activation='relu', kernel_initializer='he_normal', input_shape=(n_features,)))\n",
        "model.add(Dropout(0.1))\n",
        "model.add(Dense(20, activation='relu', kernel_initializer='he_normal'))\n",
        "model.add(Dropout(0.1))\n",
        "model.add(Dense(5, activation='relu', kernel_initializer='he_normal'))\n",
        "model.add(Dropout(0.1))\n",
        "model.add(Dense(10, activation='softmax'))\n",
        "# compile the model\n",
        "sgd = Adam()\n",
        "model.compile(optimizer=sgd, loss='categorical_crossentropy', metrics=['accuracy'])\n",
        "# model.summary()\n",
        "\n",
        "# fit the model\n",
        "history = model.fit(X_train, y_train, epochs=10, batch_size=32, verbose=0)\n",
        "y_pred = model.predict(X_test)\n",
        "acc = sum(np.argmax(y_pred, axis=1)==np.argmax(y_test, axis=1))/y_test.shape[0]\n",
        "print(f'Accuracy w/ Dropout: {acc}')"
      ],
      "metadata": {
        "colab": {
          "base_uri": "https://localhost:8080/"
        },
        "id": "Wzhxt7cUO-J4",
        "outputId": "ee4ed510-96f1-4d55-e775-4388629c2ad1"
      },
      "execution_count": 64,
      "outputs": [
        {
          "output_type": "stream",
          "name": "stdout",
          "text": [
            "394/394 [==============================] - 1s 2ms/step\n",
            "Accuracy w/ Dropout: 0.8988095238095238\n"
          ]
        }
      ]
    },
    {
      "cell_type": "markdown",
      "source": [
        "# Quiz 3"
      ],
      "metadata": {
        "id": "-QUeFzRL6VJ1"
      }
    },
    {
      "cell_type": "code",
      "source": [
        "# Baseline\n",
        "# define model\n",
        "model = Sequential()\n",
        "model.add(Dense(10, activation='relu', kernel_initializer='he_normal', input_shape=(n_features,)))\n",
        "model.add(Dense(20, activation='relu', kernel_initializer='he_normal'))\n",
        "model.add(Dense(5, activation='relu', kernel_initializer='he_normal'))\n",
        "model.add(Dense(10, activation='softmax'))\n",
        "# compile the model\n",
        "sgd = Adam()\n",
        "model.compile(optimizer=sgd, loss='categorical_crossentropy', metrics=['accuracy'])\n",
        "# model.summary()\n",
        "\n",
        "# fit the model\n",
        "history = model.fit(X_train, y_train, epochs=10, batch_size=32, verbose=1)\n",
        "y_pred = model.predict(X_test)\n",
        "acc = sum(np.argmax(y_pred, axis=1)==np.argmax(y_test, axis=1))/y_test.shape[0]\n",
        "print(f'Accuracy ReLU: {acc}')"
      ],
      "metadata": {
        "colab": {
          "base_uri": "https://localhost:8080/"
        },
        "id": "mTiu4nz97MJI",
        "outputId": "63c8dcc8-e22c-491e-d276-340b460814a6"
      },
      "execution_count": 70,
      "outputs": [
        {
          "output_type": "stream",
          "name": "stdout",
          "text": [
            "Epoch 1/10\n",
            "919/919 [==============================] - 5s 2ms/step - loss: 1.1664 - accuracy: 0.5778\n",
            "Epoch 2/10\n",
            "919/919 [==============================] - 2s 2ms/step - loss: 0.4734 - accuracy: 0.8672\n",
            "Epoch 3/10\n",
            "919/919 [==============================] - 2s 2ms/step - loss: 0.3588 - accuracy: 0.8976\n",
            "Epoch 4/10\n",
            "919/919 [==============================] - 2s 2ms/step - loss: 0.3145 - accuracy: 0.9096\n",
            "Epoch 5/10\n",
            "919/919 [==============================] - 2s 2ms/step - loss: 0.2872 - accuracy: 0.9159\n",
            "Epoch 6/10\n",
            "919/919 [==============================] - 3s 3ms/step - loss: 0.2668 - accuracy: 0.9226\n",
            "Epoch 7/10\n",
            "919/919 [==============================] - 2s 3ms/step - loss: 0.2521 - accuracy: 0.9276\n",
            "Epoch 8/10\n",
            "919/919 [==============================] - 2s 2ms/step - loss: 0.2408 - accuracy: 0.9310\n",
            "Epoch 9/10\n",
            "919/919 [==============================] - 2s 2ms/step - loss: 0.2312 - accuracy: 0.9340\n",
            "Epoch 10/10\n",
            "919/919 [==============================] - 2s 2ms/step - loss: 0.2220 - accuracy: 0.9370\n",
            "394/394 [==============================] - 1s 2ms/step\n",
            "Accuracy ReLU: 0.9219047619047619\n"
          ]
        }
      ]
    },
    {
      "cell_type": "code",
      "source": [
        "# Batch normalization\n",
        "# define model\n",
        "model = Sequential()\n",
        "model.add(Dense(10, activation='relu', kernel_initializer='he_normal', input_shape=(n_features,)))\n",
        "model.add(BatchNormalization())\n",
        "model.add(Dense(20, activation='relu', kernel_initializer='he_normal'))\n",
        "model.add(BatchNormalization())\n",
        "model.add(Dense(5, activation='relu', kernel_initializer='he_normal'))\n",
        "model.add(BatchNormalization())\n",
        "model.add(Dense(10, activation='softmax'))\n",
        "# compile the model\n",
        "sgd = Adam()\n",
        "model.compile(optimizer=sgd, loss='categorical_crossentropy', metrics=['accuracy'])\n",
        "# model.summary()\n",
        "\n",
        "# fit the model\n",
        "history = model.fit(X_train, y_train, epochs=10, batch_size=32, verbose=1)\n",
        "y_pred = model.predict(X_test)\n",
        "acc = sum(np.argmax(y_pred, axis=1)==np.argmax(y_test, axis=1))/y_test.shape[0]\n",
        "print(f'Accuracy Batch Normalization: {acc}')"
      ],
      "metadata": {
        "colab": {
          "base_uri": "https://localhost:8080/"
        },
        "id": "PfGMVHcW6Vr2",
        "outputId": "2f084e5a-c3ca-4024-d483-84f963785742"
      },
      "execution_count": 69,
      "outputs": [
        {
          "output_type": "stream",
          "name": "stdout",
          "text": [
            "Epoch 1/10\n",
            "919/919 [==============================] - 5s 3ms/step - loss: 1.1103 - accuracy: 0.6670\n",
            "Epoch 2/10\n",
            "919/919 [==============================] - 5s 5ms/step - loss: 0.5452 - accuracy: 0.8496\n",
            "Epoch 3/10\n",
            "919/919 [==============================] - 3s 3ms/step - loss: 0.4486 - accuracy: 0.8727\n",
            "Epoch 4/10\n",
            "919/919 [==============================] - 3s 3ms/step - loss: 0.4026 - accuracy: 0.8853\n",
            "Epoch 5/10\n",
            "919/919 [==============================] - 3s 3ms/step - loss: 0.3750 - accuracy: 0.8923\n",
            "Epoch 6/10\n",
            "919/919 [==============================] - 4s 5ms/step - loss: 0.3528 - accuracy: 0.8993\n",
            "Epoch 7/10\n",
            "919/919 [==============================] - 3s 3ms/step - loss: 0.3370 - accuracy: 0.9030\n",
            "Epoch 8/10\n",
            "919/919 [==============================] - 3s 3ms/step - loss: 0.3259 - accuracy: 0.9045\n",
            "Epoch 9/10\n",
            "919/919 [==============================] - 3s 3ms/step - loss: 0.3209 - accuracy: 0.9070\n",
            "Epoch 10/10\n",
            "919/919 [==============================] - 3s 3ms/step - loss: 0.3154 - accuracy: 0.9079\n",
            "394/394 [==============================] - 1s 2ms/step\n",
            "Accuracy Batch Normalization: 0.9107142857142857\n"
          ]
        }
      ]
    },
    {
      "cell_type": "markdown",
      "source": [
        "# Quiz 4"
      ],
      "metadata": {
        "id": "I7N_lmWGRPyf"
      }
    },
    {
      "cell_type": "code",
      "source": [
        "plot_model(model, show_shapes=True)"
      ],
      "metadata": {
        "colab": {
          "base_uri": "https://localhost:8080/",
          "height": 533
        },
        "id": "rS8CTaqVAkJw",
        "outputId": "34b7e624-7610-4a86-8e5f-01e10f91e158"
      },
      "execution_count": 71,
      "outputs": [
        {
          "output_type": "execute_result",
          "data": {
            "image/png": "[encoded data removed]",
            "text/plain": [
              "<IPython.core.display.Image object>"
            ]
          },
          "metadata": {},
          "execution_count": 71
        }
      ]
    },
    {
      "cell_type": "code",
      "source": [
        "# Batch normalization\n",
        "# define model\n",
        "model = Sequential()\n",
        "model.add(Dense(10, activation='relu', kernel_initializer='he_normal', input_shape=(n_features,)))\n",
        "model.add(BatchNormalization())\n",
        "model.add(Dense(20, activation='relu', kernel_initializer='he_normal'))\n",
        "model.add(BatchNormalization())\n",
        "model.add(Dense(5, activation='relu', kernel_initializer='he_normal'))\n",
        "model.add(BatchNormalization())\n",
        "model.add(Dense(10, activation='softmax'))\n",
        "# compile the model\n",
        "sgd = Adam()\n",
        "model.compile(optimizer=sgd, loss='categorical_crossentropy', metrics=['accuracy'])\n",
        "# model.summary()\n",
        "\n",
        "# fit the model\n",
        "history = model.fit(X_train, y_train, epochs=10, batch_size=32, verbose=1, validation_data=(X_test, y_test))\n",
        "# plot learning curves\n",
        "pyplot.title('Learning Curves')\n",
        "pyplot.xlabel('Epoch')\n",
        "pyplot.ylabel('Cross Entropy')\n",
        "pyplot.plot(history.history['loss'], label='train')\n",
        "pyplot.plot(history.history['val_loss'], label='val')\n",
        "pyplot.legend()\n",
        "pyplot.show()"
      ],
      "metadata": {
        "colab": {
          "base_uri": "https://localhost:8080/",
          "height": 841
        },
        "id": "UbBbhtcRBIYc",
        "outputId": "66124bd3-8f1c-4f45-b7ee-79894521ea26"
      },
      "execution_count": 74,
      "outputs": [
        {
          "output_type": "stream",
          "name": "stdout",
          "text": [
            "Epoch 1/10\n",
            "919/919 [==============================] - 7s 5ms/step - loss: 1.1338 - accuracy: 0.6562 - val_loss: 0.6283 - val_accuracy: 0.8170\n",
            "Epoch 2/10\n",
            "919/919 [==============================] - 6s 6ms/step - loss: 0.5897 - accuracy: 0.8400 - val_loss: 0.4572 - val_accuracy: 0.8721\n",
            "Epoch 3/10\n",
            "919/919 [==============================] - 5s 5ms/step - loss: 0.4834 - accuracy: 0.8680 - val_loss: 0.4507 - val_accuracy: 0.8702\n",
            "Epoch 4/10\n",
            "919/919 [==============================] - 4s 4ms/step - loss: 0.4336 - accuracy: 0.8821 - val_loss: 0.4031 - val_accuracy: 0.8861\n",
            "Epoch 5/10\n",
            "919/919 [==============================] - 5s 6ms/step - loss: 0.4129 - accuracy: 0.8886 - val_loss: 0.3797 - val_accuracy: 0.8945\n",
            "Epoch 6/10\n",
            "919/919 [==============================] - 4s 4ms/step - loss: 0.3944 - accuracy: 0.8935 - val_loss: 0.3657 - val_accuracy: 0.8975\n",
            "Epoch 7/10\n",
            "919/919 [==============================] - 4s 4ms/step - loss: 0.3789 - accuracy: 0.8975 - val_loss: 0.3666 - val_accuracy: 0.8975\n",
            "Epoch 8/10\n",
            "919/919 [==============================] - 5s 5ms/step - loss: 0.3707 - accuracy: 0.8981 - val_loss: 0.3593 - val_accuracy: 0.8977\n",
            "Epoch 9/10\n",
            "919/919 [==============================] - 4s 5ms/step - loss: 0.3608 - accuracy: 0.9023 - val_loss: 0.3315 - val_accuracy: 0.9067\n",
            "Epoch 10/10\n",
            "919/919 [==============================] - 4s 4ms/step - loss: 0.3536 - accuracy: 0.9037 - val_loss: 0.3326 - val_accuracy: 0.9051\n"
          ]
        },
        {
          "output_type": "display_data",
          "data": {
            "text/plain": [
              "<Figure size 640x480 with 1 Axes>"
            ],
            "image/png": "[encoded data removed]"
          },
          "metadata": {}
        }
      ]
    },
    {
      "cell_type": "markdown",
      "source": [
        "# Quiz 5"
      ],
      "metadata": {
        "id": "iXzws8dfRNKr"
      }
    },
    {
      "cell_type": "code",
      "source": [
        "x_train = np.reshape(X_train.values, (-1,28,28,1))\n",
        "x_test = np.reshape(X_test.values, (-1,28,28,1))\n",
        "in_shape = x_train.shape[1:]"
      ],
      "metadata": {
        "id": "X5t30welRcdl"
      },
      "execution_count": 12,
      "outputs": []
    },
    {
      "cell_type": "code",
      "source": [
        "y_train"
      ],
      "metadata": {
        "colab": {
          "base_uri": "https://localhost:8080/"
        },
        "id": "8Sj2tsUOTakM",
        "outputId": "c488fc09-11af-4342-e0bf-ffe695cf07ef"
      },
      "execution_count": 14,
      "outputs": [
        {
          "output_type": "execute_result",
          "data": {
            "text/plain": [
              "array([[0., 0., 0., ..., 0., 0., 0.],\n",
              "       [1., 0., 0., ..., 0., 0., 0.],\n",
              "       [0., 0., 0., ..., 0., 0., 1.],\n",
              "       ...,\n",
              "       [0., 0., 1., ..., 0., 0., 0.],\n",
              "       [0., 0., 0., ..., 0., 0., 0.],\n",
              "       [1., 0., 0., ..., 0., 0., 0.]])"
            ]
          },
          "metadata": {},
          "execution_count": 14
        }
      ]
    },
    {
      "cell_type": "code",
      "source": [
        "from tensorflow.keras.layers import Conv2D, MaxPool2D, Flatten\n",
        "# define model\n",
        "model = Sequential()\n",
        "model.add(Conv2D(32, (3,3), activation='relu', kernel_initializer='he_uniform', input_shape=in_shape))\n",
        "model.add(MaxPool2D((2, 2)))\n",
        "model.add(Flatten())\n",
        "model.add(Dense(128, activation='relu', kernel_initializer='he_uniform'))\n",
        "model.add(Dense(256, activation='relu', kernel_initializer='he_uniform'))\n",
        "model.add(Dropout(0.5))\n",
        "model.add(Dense(10, activation='softmax'))\n",
        "# define loss and optimizer\n",
        "model.compile(optimizer='adam', loss='categorical_crossentropy', metrics=['accuracy'])\n",
        "# fit the model\n",
        "model.fit(x_train, y_train, epochs=10, batch_size=128, verbose=1)\n",
        "# evaluate the model\n",
        "loss, acc = model.evaluate(x_test, y_test, verbose=0)\n",
        "print('Accuracy: %.3f' % acc)\n"
      ],
      "metadata": {
        "colab": {
          "base_uri": "https://localhost:8080/"
        },
        "id": "84yWrdHqRSYc",
        "outputId": "ee498bf9-0e75-4ae0-e4c9-d5f93effb389"
      },
      "execution_count": 15,
      "outputs": [
        {
          "output_type": "stream",
          "name": "stdout",
          "text": [
            "Epoch 1/10\n",
            "230/230 [==============================] - 6s 5ms/step - loss: 0.3734 - accuracy: 0.8834\n",
            "Epoch 2/10\n",
            "230/230 [==============================] - 1s 4ms/step - loss: 0.1242 - accuracy: 0.9616\n",
            "Epoch 3/10\n",
            "230/230 [==============================] - 1s 5ms/step - loss: 0.0763 - accuracy: 0.9767\n",
            "Epoch 4/10\n",
            "230/230 [==============================] - 1s 4ms/step - loss: 0.0514 - accuracy: 0.9842\n",
            "Epoch 5/10\n",
            "230/230 [==============================] - 1s 4ms/step - loss: 0.0374 - accuracy: 0.9883\n",
            "Epoch 6/10\n",
            "230/230 [==============================] - 1s 4ms/step - loss: 0.0275 - accuracy: 0.9914\n",
            "Epoch 7/10\n",
            "230/230 [==============================] - 1s 4ms/step - loss: 0.0199 - accuracy: 0.9937\n",
            "Epoch 8/10\n",
            "230/230 [==============================] - 1s 4ms/step - loss: 0.0158 - accuracy: 0.9950\n",
            "Epoch 9/10\n",
            "230/230 [==============================] - 1s 5ms/step - loss: 0.0111 - accuracy: 0.9964\n",
            "Epoch 10/10\n",
            "230/230 [==============================] - 1s 5ms/step - loss: 0.0136 - accuracy: 0.9956\n",
            "Accuracy: 0.981\n"
          ]
        }
      ]
    },
    {
      "cell_type": "code",
      "source": [
        "# make a prediction\n",
        "image = x_train[0]\n",
        "yhat = model.predict(np.asarray([image]))\n",
        "print('Predicted: class=%d' % np.argmax(yhat))"
      ],
      "metadata": {
        "colab": {
          "base_uri": "https://localhost:8080/"
        },
        "id": "zYWBF9t6SbBq",
        "outputId": "8f8be569-677e-4767-f685-28052792c850"
      },
      "execution_count": 16,
      "outputs": [
        {
          "output_type": "stream",
          "name": "stdout",
          "text": [
            "1/1 [==============================] - 0s 206ms/step\n",
            "Predicted: class=4\n"
          ]
        }
      ]
    }
  ]
}