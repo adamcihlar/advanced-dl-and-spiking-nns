{
  "nbformat": 4,
  "nbformat_minor": 0,
  "metadata": {
    "colab": {
      "provenance": []
    },
    "kernelspec": {
      "display_name": "Python 3",
      "language": "python",
      "name": "python3"
    },
    "accelerator": "GPU",
    "gpuClass": "standard"
  },
  "cells": [
    {
      "cell_type": "markdown",
      "metadata": {
        "id": "J-M37w7MBfBd"
      },
      "source": [
        "# Colab notebooks remark"
      ]
    },
    {
      "cell_type": "code",
      "source": [
        "import keras\n",
        "print('Keras version:', keras.__version__)\n",
        "import tensorflow\n",
        "print('Tensorflow version:', tensorflow.__version__)\n",
        "\n",
        "if tensorflow.test.gpu_device_name():\n",
        "  print('Default GPU Device: {}'.format(tensorflow.test.gpu_device_name()))\n",
        "else:\n",
        "  print(\"Please install GPU version of TF\")"
      ],
      "metadata": {
        "colab": {
          "base_uri": "https://localhost:8080/"
        },
        "id": "WOBYAR8Wrtim",
        "outputId": "8ba082f8-8903-4461-cd1f-115ae7c48731"
      },
      "execution_count": null,
      "outputs": [
        {
          "output_type": "stream",
          "name": "stdout",
          "text": [
            "Keras version: 2.12.0\n",
            "Tensorflow version: 2.12.0\n",
            "Default GPU Device: /device:GPU:0\n"
          ]
        }
      ]
    },
    {
      "cell_type": "markdown",
      "metadata": {
        "id": "q9S3ghHQBe6c"
      },
      "source": [
        "**Note**: make sure you connect this notebook to a GPU. To do so, please go to main menu and click \"Edit\" -> \"Notebook settings\". In the dialog, select \"GPU\" in the \"Hardware accelerator\" dropdown menu. Don't forget to save the settings. When you see in the upper right corner that your notebook is connected (dropdown menu besides the editing menu) you are ready to go."
      ]
    },
    {
      "cell_type": "markdown",
      "metadata": {
        "id": "lGzqHcIJBeu1"
      },
      "source": [
        "**Origin**: This Colab notebook is based on [this](https://github.com/fchollet/deep-learning-with-python-notebooks/blob/master/6.2-understanding-recurrent-neural-networks.ipynb) Jupyter notebook at GitHub."
      ]
    },
    {
      "cell_type": "markdown",
      "metadata": {
        "id": "A7RFrSHLodSv"
      },
      "source": [
        "# Understanding recurrent neural networks\n",
        "\n",
        "This notebook contains the code samples found in Chapter 6, Section 2 of [Deep Learning with Python](https://www.manning.com/books/deep-learning-with-python?a_aid=keras&a_bid=76564dff). Note that the original text features far more content, in particular further explanations and figures: in this notebook, you will only find source code and related comments.\n",
        "\n",
        "---\n",
        "\n",
        "[...]\n",
        "\n",
        "## A first recurrent layer in Keras\n",
        "\n",
        "The process we just naively implemented in Numpy corresponds to an actual Keras layer: the `SimpleRNN` layer:\n"
      ]
    },
    {
      "cell_type": "code",
      "metadata": {
        "id": "pRCVOyJwodSx"
      },
      "source": [
        "from tensorflow.keras.layers import SimpleRNN"
      ],
      "execution_count": null,
      "outputs": []
    },
    {
      "cell_type": "markdown",
      "metadata": {
        "id": "UoIxjxgOodS0"
      },
      "source": [
        "There is just one minor difference: `SimpleRNN` processes batches of sequences, like all other Keras layers, not just a single sequence like \n",
        "in our Numpy example. This means that it takes inputs of shape `(batch_size, timesteps, input_features)`, rather than `(timesteps, \n",
        "input_features)`.\n",
        "\n",
        "Like all recurrent layers in Keras, `SimpleRNN` can be run in two different modes: it can return either the full sequences of successive \n",
        "outputs for each timestep (a 3D tensor of shape `(batch_size, timesteps, output_features)`), or it can return only the last output for each \n",
        "input sequence (a 2D tensor of shape `(batch_size, output_features)`). These two modes are controlled by the `return_sequences` constructor \n",
        "argument. Let's take a look at an example:"
      ]
    },
    {
      "cell_type": "code",
      "metadata": {
        "id": "2jqnPjCYodS2",
        "colab": {
          "base_uri": "https://localhost:8080/"
        },
        "outputId": "462a3b6c-762b-41e4-8007-d67b352209dd"
      },
      "source": [
        "from tensorflow.keras.models import Sequential\n",
        "from tensorflow.keras.layers import Embedding, SimpleRNN, Dense\n",
        "\n",
        "model = Sequential()\n",
        "model.add(Embedding(10000, 8)) # parameter max_length not required, because no flattening needed (using RNN layer now, not Dense layer)\n",
        "model.add(SimpleRNN(32))\n",
        "model.summary()"
      ],
      "execution_count": null,
      "outputs": [
        {
          "output_type": "stream",
          "name": "stdout",
          "text": [
            "Model: \"sequential\"\n",
            "_________________________________________________________________\n",
            " Layer (type)                Output Shape              Param #   \n",
            "=================================================================\n",
            " embedding (Embedding)       (None, None, 8)           80000     \n",
            "                                                                 \n",
            " simple_rnn (SimpleRNN)      (None, 32)                1312      \n",
            "                                                                 \n",
            "=================================================================\n",
            "Total params: 81,312\n",
            "Trainable params: 81,312\n",
            "Non-trainable params: 0\n",
            "_________________________________________________________________\n"
          ]
        }
      ]
    },
    {
      "cell_type": "code",
      "metadata": {
        "id": "rHWGa7XTodS6",
        "colab": {
          "base_uri": "https://localhost:8080/"
        },
        "outputId": "885d001c-9701-454f-d391-ad573528327d"
      },
      "source": [
        "model = Sequential()\n",
        "model.add(Embedding(10000, 8))\n",
        "model.add(SimpleRNN(32, return_sequences=True)) # Returns 3D tensor preserving sequence\n",
        "model.summary()"
      ],
      "execution_count": null,
      "outputs": [
        {
          "output_type": "stream",
          "name": "stdout",
          "text": [
            "Model: \"sequential_1\"\n",
            "_________________________________________________________________\n",
            " Layer (type)                Output Shape              Param #   \n",
            "=================================================================\n",
            " embedding_1 (Embedding)     (None, None, 8)           80000     \n",
            "                                                                 \n",
            " simple_rnn_1 (SimpleRNN)    (None, None, 32)          1312      \n",
            "                                                                 \n",
            "=================================================================\n",
            "Total params: 81,312\n",
            "Trainable params: 81,312\n",
            "Non-trainable params: 0\n",
            "_________________________________________________________________\n"
          ]
        }
      ]
    },
    {
      "cell_type": "markdown",
      "metadata": {
        "id": "GDOpGcnpodS-"
      },
      "source": [
        "It is sometimes useful to stack several recurrent layers one after the other in order to increase the representational power of a network. \n",
        "In such a setup, you have to get all intermediate layers to return full sequences:"
      ]
    },
    {
      "cell_type": "code",
      "metadata": {
        "id": "foCFd47vodS_",
        "colab": {
          "base_uri": "https://localhost:8080/"
        },
        "outputId": "53d38930-8e52-4e2b-8b1c-e2b40b656cd8"
      },
      "source": [
        "model = Sequential()\n",
        "model.add(Embedding(10000, 8))\n",
        "model.add(SimpleRNN(32, return_sequences=True))\n",
        "model.add(SimpleRNN(32, return_sequences=True))\n",
        "model.add(SimpleRNN(32, return_sequences=True))\n",
        "model.add(SimpleRNN(32))  # This last layer only returns the last outputs.\n",
        "model.add(Dense(1, activation='sigmoid'))\n",
        "model.summary()"
      ],
      "execution_count": null,
      "outputs": [
        {
          "output_type": "stream",
          "name": "stdout",
          "text": [
            "Model: \"sequential_2\"\n",
            "_________________________________________________________________\n",
            " Layer (type)                Output Shape              Param #   \n",
            "=================================================================\n",
            " embedding_2 (Embedding)     (None, None, 8)           80000     \n",
            "                                                                 \n",
            " simple_rnn_2 (SimpleRNN)    (None, None, 32)          1312      \n",
            "                                                                 \n",
            " simple_rnn_3 (SimpleRNN)    (None, None, 32)          2080      \n",
            "                                                                 \n",
            " simple_rnn_4 (SimpleRNN)    (None, None, 32)          2080      \n",
            "                                                                 \n",
            " simple_rnn_5 (SimpleRNN)    (None, 32)                2080      \n",
            "                                                                 \n",
            " dense (Dense)               (None, 1)                 33        \n",
            "                                                                 \n",
            "=================================================================\n",
            "Total params: 87,585\n",
            "Trainable params: 87,585\n",
            "Non-trainable params: 0\n",
            "_________________________________________________________________\n"
          ]
        }
      ]
    },
    {
      "cell_type": "markdown",
      "metadata": {
        "id": "goSeHiq_odTD"
      },
      "source": [
        "Now let's try to use such a model on the IMDB movie review classification problem. First, let's preprocess the data:"
      ]
    },
    {
      "cell_type": "code",
      "metadata": {
        "id": "lp-6GochodTE",
        "colab": {
          "base_uri": "https://localhost:8080/"
        },
        "outputId": "aaa2183b-8bed-4553-b80c-721cf8b3243e"
      },
      "source": [
        "from tensorflow.keras.datasets import imdb\n",
        "from tensorflow.keras.preprocessing import sequence\n",
        "\n",
        "max_features = 10000  # number of words to consider as features\n",
        "maxlen = 500  # cut texts after this number of words (among top max_features most common words)\n",
        "\n",
        "\n",
        "print('Loading data...')\n",
        "(input_train, y_train), (input_test, y_test) = imdb.load_data(num_words=max_features)\n",
        "print(len(input_train), 'train sequences')\n",
        "print(len(input_test), 'test sequences')\n",
        "\n",
        "print('Pad sequences (samples x time)')\n",
        "input_train = sequence.pad_sequences(input_train, maxlen=maxlen)\n",
        "input_test = sequence.pad_sequences(input_test, maxlen=maxlen)\n",
        "print('input_train shape:', input_train.shape)\n",
        "print('input_test shape:', input_test.shape)"
      ],
      "execution_count": null,
      "outputs": [
        {
          "output_type": "stream",
          "name": "stdout",
          "text": [
            "Loading data...\n",
            "Downloading data from https://storage.googleapis.com/tensorflow/tf-keras-datasets/imdb.npz\n",
            "17464789/17464789 [==============================] - 0s 0us/step\n",
            "25000 train sequences\n",
            "25000 test sequences\n",
            "Pad sequences (samples x time)\n",
            "input_train shape: (25000, 500)\n",
            "input_test shape: (25000, 500)\n"
          ]
        }
      ]
    },
    {
      "cell_type": "markdown",
      "metadata": {
        "id": "hD9FUvzAodTK"
      },
      "source": [
        "Let's train a simple recurrent network using an `Embedding` layer and a `SimpleRNN` layer:"
      ]
    },
    {
      "cell_type": "code",
      "metadata": {
        "id": "9pZAzZKPodTL",
        "colab": {
          "base_uri": "https://localhost:8080/"
        },
        "outputId": "64ce6a74-b944-4274-9e0a-815a7dddd33f"
      },
      "source": [
        "from tensorflow.keras.layers import Dense\n",
        "\n",
        "model = Sequential()\n",
        "model.add(Embedding(max_features, 32, input_length=maxlen))\n",
        "model.add(SimpleRNN(32, unroll=True))\n",
        "model.add(Dense(1, activation='sigmoid'))\n",
        "\n",
        "model.compile(optimizer='rmsprop', loss='binary_crossentropy', metrics=['acc'])\n",
        "model.summary()\n",
        "history = model.fit(input_train, y_train,\n",
        "                    verbose=1,\n",
        "                    epochs=10,\n",
        "                    batch_size=128,\n",
        "                    validation_split=0.2)"
      ],
      "execution_count": null,
      "outputs": [
        {
          "output_type": "stream",
          "name": "stdout",
          "text": [
            "Model: \"sequential_3\"\n",
            "_________________________________________________________________\n",
            " Layer (type)                Output Shape              Param #   \n",
            "=================================================================\n",
            " embedding_3 (Embedding)     (None, 500, 32)           320000    \n",
            "                                                                 \n",
            " simple_rnn_6 (SimpleRNN)    (None, 32)                2080      \n",
            "                                                                 \n",
            " dense_1 (Dense)             (None, 1)                 33        \n",
            "                                                                 \n",
            "=================================================================\n",
            "Total params: 322,113\n",
            "Trainable params: 322,113\n",
            "Non-trainable params: 0\n",
            "_________________________________________________________________\n",
            "Epoch 1/10\n",
            "157/157 [==============================] - 67s 231ms/step - loss: 0.6385 - acc: 0.6230 - val_loss: 0.4847 - val_acc: 0.7844\n",
            "Epoch 2/10\n",
            "157/157 [==============================] - 24s 154ms/step - loss: 0.4278 - acc: 0.8184 - val_loss: 0.4889 - val_acc: 0.7694\n",
            "Epoch 3/10\n",
            "157/157 [==============================] - 21s 136ms/step - loss: 0.3386 - acc: 0.8633 - val_loss: 0.4133 - val_acc: 0.8144\n",
            "Epoch 4/10\n",
            "157/157 [==============================] - 19s 124ms/step - loss: 0.2769 - acc: 0.8918 - val_loss: 0.3787 - val_acc: 0.8550\n",
            "Epoch 5/10\n",
            "157/157 [==============================] - 16s 103ms/step - loss: 0.2218 - acc: 0.9163 - val_loss: 0.3921 - val_acc: 0.8576\n",
            "Epoch 6/10\n",
            "157/157 [==============================] - 15s 95ms/step - loss: 0.1809 - acc: 0.9342 - val_loss: 0.4254 - val_acc: 0.8202\n",
            "Epoch 7/10\n",
            "157/157 [==============================] - 15s 99ms/step - loss: 0.1211 - acc: 0.9590 - val_loss: 0.4477 - val_acc: 0.8294\n",
            "Epoch 8/10\n",
            "157/157 [==============================] - 15s 93ms/step - loss: 0.0831 - acc: 0.9740 - val_loss: 0.4931 - val_acc: 0.8272\n",
            "Epoch 9/10\n",
            "157/157 [==============================] - 14s 89ms/step - loss: 0.0554 - acc: 0.9833 - val_loss: 0.5268 - val_acc: 0.8246\n",
            "Epoch 10/10\n",
            "157/157 [==============================] - 13s 85ms/step - loss: 0.0372 - acc: 0.9895 - val_loss: 0.5588 - val_acc: 0.8332\n"
          ]
        }
      ]
    },
    {
      "cell_type": "markdown",
      "metadata": {
        "id": "fjAVOFTvodTP"
      },
      "source": [
        "Let's display the training and validation loss and accuracy:"
      ]
    },
    {
      "cell_type": "code",
      "metadata": {
        "id": "4ETVt_nhodTQ",
        "colab": {
          "base_uri": "https://localhost:8080/",
          "height": 887
        },
        "outputId": "0984cbf9-0497-483a-9465-8eaa2fde13da"
      },
      "source": [
        "import matplotlib.pyplot as plt\n",
        "\n",
        "acc = history.history['acc']\n",
        "val_acc = history.history['val_acc']\n",
        "loss = history.history['loss']\n",
        "val_loss = history.history['val_loss']\n",
        "\n",
        "epochs = range(len(acc))\n",
        "\n",
        "plt.plot(epochs, acc, 'bo', label='Training acc')\n",
        "plt.plot(epochs, val_acc, 'b', label='Validation acc')\n",
        "plt.title('Training and validation accuracy')\n",
        "plt.legend()\n",
        "\n",
        "plt.figure()\n",
        "\n",
        "plt.plot(epochs, loss, 'bo', label='Training loss')\n",
        "plt.plot(epochs, val_loss, 'b', label='Validation loss')\n",
        "plt.title('Training and validation loss')\n",
        "plt.legend()\n",
        "\n",
        "plt.show()"
      ],
      "execution_count": null,
      "outputs": [
        {
          "output_type": "display_data",
          "data": {
            "text/plain": [
              "<Figure size 640x480 with 1 Axes>"
            ],
            "image/png": "[encoded data removed]"
          },
          "metadata": {}
        },
        {
          "output_type": "display_data",
          "data": {
            "text/plain": [
              "<Figure size 640x480 with 1 Axes>"
            ],
            "image/png": "[encoded data removed]"
          },
          "metadata": {}
        }
      ]
    },
    {
      "cell_type": "markdown",
      "metadata": {
        "id": "TJ9wQy8godTU"
      },
      "source": [
        "As a reminder, in chapter 3, our very first naive approach to this very dataset got us to 88% test accuracy. Unfortunately, our small \n",
        "recurrent network doesn't perform very well at all compared to this baseline (only up to 85% validation accuracy). Part of the problem is \n",
        "that our inputs only consider the first 500 words rather the full sequences -- \n",
        "hence our RNN has access to less information than our earlier baseline model. The remainder of the problem is simply that `SimpleRNN` isn't very good at processing long sequences, like text. Other types of recurrent layers perform much better. Let's take a look at some \n",
        "more advanced layers further below like LSTM layers."
      ]
    },
    {
      "cell_type": "markdown",
      "source": [
        "But first train a model with all the training data and evaluate on test data."
      ],
      "metadata": {
        "id": "HZfIhcqrhWrG"
      }
    },
    {
      "cell_type": "code",
      "source": [
        "model = Sequential()\n",
        "model.add(Embedding(max_features, 32, input_length=maxlen))\n",
        "model.add(SimpleRNN(32, unroll=True))\n",
        "model.add(Dense(1, activation='sigmoid'))\n",
        "\n",
        "model.compile(optimizer='rmsprop', loss='binary_crossentropy', metrics=['acc'])\n",
        "model.summary()\n",
        "history = model.fit(input_train, y_train,\n",
        "                    epochs=4,\n",
        "                    batch_size=128)\n",
        "\n",
        "print('\\nEvaluate on test data')\n",
        "results = model.evaluate(input_test, y_test)"
      ],
      "metadata": {
        "colab": {
          "base_uri": "https://localhost:8080/"
        },
        "id": "A4LZvRTOgsmt",
        "outputId": "97a58a95-c1a4-41e6-ab1d-ae9bba582388"
      },
      "execution_count": null,
      "outputs": [
        {
          "output_type": "stream",
          "name": "stdout",
          "text": [
            "Model: \"sequential_4\"\n",
            "_________________________________________________________________\n",
            " Layer (type)                Output Shape              Param #   \n",
            "=================================================================\n",
            " embedding_4 (Embedding)     (None, 500, 32)           320000    \n",
            "                                                                 \n",
            " simple_rnn_7 (SimpleRNN)    (None, 32)                2080      \n",
            "                                                                 \n",
            " dense_2 (Dense)             (None, 1)                 33        \n",
            "                                                                 \n",
            "=================================================================\n",
            "Total params: 322,113\n",
            "Trainable params: 322,113\n",
            "Non-trainable params: 0\n",
            "_________________________________________________________________\n",
            "Epoch 1/4\n",
            "196/196 [==============================] - 56s 160ms/step - loss: 0.5449 - acc: 0.7160\n",
            "Epoch 2/4\n",
            "196/196 [==============================] - 24s 123ms/step - loss: 0.3485 - acc: 0.8560\n",
            "Epoch 3/4\n",
            "196/196 [==============================] - 22s 113ms/step - loss: 0.2807 - acc: 0.8908\n",
            "Epoch 4/4\n",
            "196/196 [==============================] - 18s 93ms/step - loss: 0.2478 - acc: 0.9049\n",
            "\n",
            "Evaluate on test data\n",
            "782/782 [==============================] - 24s 24ms/step - loss: 0.3716 - acc: 0.8374\n"
          ]
        }
      ]
    },
    {
      "cell_type": "markdown",
      "metadata": {
        "id": "BTim0GW5odTU"
      },
      "source": [
        "[...]\n",
        "\n",
        "## A concrete LSTM example in Keras\n",
        "\n",
        "Now let's switch to more practical concerns: we will set up a model using a LSTM layer and train it on the IMDB data. Here's the network, \n",
        "similar to the one with `SimpleRNN` that we just presented. We only specify the output dimensionality of the LSTM layer, and leave every \n",
        "other argument (there are lots) to the Keras defaults. Keras has good defaults, and things will almost always \"just work\" without you \n",
        "having to spend time tuning parameters by hand."
      ]
    },
    {
      "cell_type": "code",
      "metadata": {
        "id": "DPZoO_LWodTV",
        "colab": {
          "base_uri": "https://localhost:8080/"
        },
        "outputId": "4f295a19-ec1f-4284-9f21-834881501d4f"
      },
      "source": [
        "from tensorflow.keras.layers import LSTM\n",
        "\n",
        "model = Sequential()\n",
        "model.add(Embedding(max_features, 32))\n",
        "model.add(LSTM(32))\n",
        "model.add(Dense(1, activation='sigmoid'))\n",
        "\n",
        "model.summary()\n",
        "\n",
        "model.compile(optimizer='rmsprop',\n",
        "              loss='binary_crossentropy',\n",
        "              metrics=['acc'])\n",
        "\n",
        "history = model.fit(input_train, y_train,\n",
        "                    epochs=10,\n",
        "                    batch_size=128,\n",
        "                    validation_split=0.2)"
      ],
      "execution_count": null,
      "outputs": [
        {
          "output_type": "stream",
          "name": "stdout",
          "text": [
            "Model: \"sequential_5\"\n",
            "_________________________________________________________________\n",
            " Layer (type)                Output Shape              Param #   \n",
            "=================================================================\n",
            " embedding_5 (Embedding)     (None, None, 32)          320000    \n",
            "                                                                 \n",
            " lstm (LSTM)                 (None, 32)                8320      \n",
            "                                                                 \n",
            " dense_3 (Dense)             (None, 1)                 33        \n",
            "                                                                 \n",
            "=================================================================\n",
            "Total params: 328,353\n",
            "Trainable params: 328,353\n",
            "Non-trainable params: 0\n",
            "_________________________________________________________________\n",
            "Epoch 1/10\n",
            "157/157 [==============================] - 24s 134ms/step - loss: 0.5924 - acc: 0.6737 - val_loss: 0.4115 - val_acc: 0.8278\n",
            "Epoch 2/10\n",
            "157/157 [==============================] - 17s 105ms/step - loss: 0.3506 - acc: 0.8567 - val_loss: 0.3167 - val_acc: 0.8702\n",
            "Epoch 3/10\n",
            "157/157 [==============================] - 11s 67ms/step - loss: 0.2724 - acc: 0.8937 - val_loss: 0.3355 - val_acc: 0.8564\n",
            "Epoch 4/10\n",
            "157/157 [==============================] - 10s 62ms/step - loss: 0.2277 - acc: 0.9139 - val_loss: 0.2908 - val_acc: 0.8824\n",
            "Epoch 5/10\n",
            "157/157 [==============================] - 9s 56ms/step - loss: 0.1987 - acc: 0.9260 - val_loss: 0.3857 - val_acc: 0.8538\n",
            "Epoch 6/10\n",
            "157/157 [==============================] - 7s 44ms/step - loss: 0.1770 - acc: 0.9331 - val_loss: 0.4372 - val_acc: 0.8386\n",
            "Epoch 7/10\n",
            "157/157 [==============================] - 7s 43ms/step - loss: 0.1565 - acc: 0.9455 - val_loss: 0.3053 - val_acc: 0.8730\n",
            "Epoch 8/10\n",
            "157/157 [==============================] - 5s 35ms/step - loss: 0.1415 - acc: 0.9505 - val_loss: 0.3603 - val_acc: 0.8624\n",
            "Epoch 9/10\n",
            "157/157 [==============================] - 5s 33ms/step - loss: 0.1278 - acc: 0.9563 - val_loss: 0.4342 - val_acc: 0.8740\n",
            "Epoch 10/10\n",
            "157/157 [==============================] - 4s 28ms/step - loss: 0.1185 - acc: 0.9595 - val_loss: 0.3412 - val_acc: 0.8610\n"
          ]
        }
      ]
    },
    {
      "cell_type": "code",
      "metadata": {
        "id": "f13DsGHvodTa",
        "colab": {
          "base_uri": "https://localhost:8080/",
          "height": 887
        },
        "outputId": "923e02cb-1ab0-430e-845f-3ae8bb3554ee"
      },
      "source": [
        "acc = history.history['acc']\n",
        "val_acc = history.history['val_acc']\n",
        "loss = history.history['loss']\n",
        "val_loss = history.history['val_loss']\n",
        "\n",
        "epochs = range(len(acc))\n",
        "\n",
        "plt.plot(epochs, acc, 'bo', label='Training acc')\n",
        "plt.plot(epochs, val_acc, 'b', label='Validation acc')\n",
        "plt.title('Training and validation accuracy')\n",
        "plt.legend()\n",
        "\n",
        "plt.figure()\n",
        "\n",
        "plt.plot(epochs, loss, 'bo', label='Training loss')\n",
        "plt.plot(epochs, val_loss, 'b', label='Validation loss')\n",
        "plt.title('Training and validation loss')\n",
        "plt.legend()\n",
        "\n",
        "plt.show()"
      ],
      "execution_count": null,
      "outputs": [
        {
          "output_type": "display_data",
          "data": {
            "text/plain": [
              "<Figure size 640x480 with 1 Axes>"
            ],
            "image/png": "[encoded data removed]"
          },
          "metadata": {}
        },
        {
          "output_type": "display_data",
          "data": {
            "text/plain": [
              "<Figure size 640x480 with 1 Axes>"
            ],
            "image/png": "[encoded data removed]"
          },
          "metadata": {}
        }
      ]
    },
    {
      "cell_type": "markdown",
      "metadata": {
        "id": "VdbTBm6B9Ufa"
      },
      "source": [
        "This time, you achieve up to 89% validation accuracy. Not bad: certainly much betterthan the SimpleRNN network—that’s largely because LSTM suffers much less from the vanishing-gradient problem—and slightly better than the fully connected approach from chapter 3, even though you’re looking at less data than you were in chapter 3. You’re truncating sequences after 500 timesteps, whereas in chapter 3, you were considering full sequences."
      ]
    },
    {
      "cell_type": "markdown",
      "metadata": {
        "id": "IkCHZIws-K07"
      },
      "source": [
        "But this result isn’t groundbreaking for such a computationally intensive\n",
        "approach. Why isn’t LSTM performing better? One reason is that you made no effort to tune hyperparameters such as the embeddings dimensionality or the LSTM output dimensionality. Another may be lack of regularization. But honestly,the primary reason is that analyzing the global, long-term structure of the reviews (what LSTM is good at) isn’t helpful for a sentiment-analysis problem. Such a basic problem is well solved by looking at what words occur in each review, and at what frequency. That’s what the first fully connected approach looked at. But there are far more difficult natural-language-processing problems out there, where the strength of LSTM will become apparent: in particular, question-answering and machine translation."
      ]
    },
    {
      "cell_type": "markdown",
      "source": [
        "Now let us evaluate the model on the test data."
      ],
      "metadata": {
        "id": "ZoupsW20uWPj"
      }
    },
    {
      "cell_type": "code",
      "source": [
        "from tensorflow.keras.layers import LSTM\n",
        "\n",
        "model = Sequential()\n",
        "model.add(Embedding(max_features, 32))\n",
        "model.add(LSTM(32))\n",
        "model.add(Dense(1, activation='sigmoid'))\n",
        "\n",
        "model.summary()\n",
        "\n",
        "model.compile(optimizer='rmsprop',\n",
        "              loss='binary_crossentropy',\n",
        "              metrics=['acc'])\n",
        "\n",
        "history = model.fit(input_train, y_train,\n",
        "                    epochs=2,\n",
        "                    batch_size=128)\n",
        "\n",
        "print('\\nEvaluate on test data')\n",
        "results = model.evaluate(input_test, y_test)"
      ],
      "metadata": {
        "id": "RfIITrUjubm5",
        "colab": {
          "base_uri": "https://localhost:8080/"
        },
        "outputId": "808e4e2a-1c64-41d7-b5e9-5bf1d6f49972"
      },
      "execution_count": null,
      "outputs": [
        {
          "output_type": "stream",
          "name": "stdout",
          "text": [
            "Model: \"sequential_6\"\n",
            "_________________________________________________________________\n",
            " Layer (type)                Output Shape              Param #   \n",
            "=================================================================\n",
            " embedding_6 (Embedding)     (None, None, 32)          320000    \n",
            "                                                                 \n",
            " lstm_1 (LSTM)               (None, 32)                8320      \n",
            "                                                                 \n",
            " dense_4 (Dense)             (None, 1)                 33        \n",
            "                                                                 \n",
            "=================================================================\n",
            "Total params: 328,353\n",
            "Trainable params: 328,353\n",
            "Non-trainable params: 0\n",
            "_________________________________________________________________\n",
            "Epoch 1/2\n",
            "196/196 [==============================] - 30s 144ms/step - loss: 0.5525 - acc: 0.7101\n",
            "Epoch 2/2\n",
            "196/196 [==============================] - 18s 90ms/step - loss: 0.3360 - acc: 0.8639\n",
            "\n",
            "Evaluate on test data\n",
            "782/782 [==============================] - 6s 7ms/step - loss: 0.3005 - acc: 0.8756\n"
          ]
        }
      ]
    },
    {
      "cell_type": "markdown",
      "source": [
        "## Class activity 2\n",
        "x = 4 x 1 <br>\n",
        "h(t) = 5 <br>\n",
        "y(t) = 5 <br>\n",
        "Wxh = 4 x 5 <br>\n",
        "Whh = 5 x 5 <br>\n",
        "Why = 5 x 5 <br>\n",
        "h(t-1) = 5 <br>\n",
        "bn = 5"
      ],
      "metadata": {
        "id": "dOfeMOjyX1x_"
      }
    },
    {
      "cell_type": "markdown",
      "source": [
        "## Class acitivity 3\n",
        "\n",
        "(10000\\*8) + 32*8 + 32*32 + 32 = 81312"
      ],
      "metadata": {
        "id": "6BDdmv3WYBRS"
      }
    },
    {
      "cell_type": "markdown",
      "source": [
        "## Class acitivity 4\n",
        "\n",
        "(4 x h)\\*(x + h) + 4\\*h <br>\n",
        "(4*2)\\*(3+2) + 4\\*2 = 48"
      ],
      "metadata": {
        "id": "bomLEJVBbdD5"
      }
    },
    {
      "cell_type": "code",
      "source": [
        "from tensorflow.keras.layers import Input\n",
        "from tensorflow.keras.models import Model\n",
        "\n",
        "input = Input((None, 3))\n",
        "lstm = LSTM(2)(input)\n",
        "model = Model(input, lstm)\n",
        "model.summary()"
      ],
      "metadata": {
        "colab": {
          "base_uri": "https://localhost:8080/"
        },
        "id": "_GzC0g9pabVq",
        "outputId": "5cdd8e11-ddc2-4170-8b6c-a663eb8e3def"
      },
      "execution_count": null,
      "outputs": [
        {
          "output_type": "stream",
          "name": "stdout",
          "text": [
            "Model: \"model_2\"\n",
            "_________________________________________________________________\n",
            " Layer (type)                Output Shape              Param #   \n",
            "=================================================================\n",
            " input_3 (InputLayer)        [(None, None, 3)]         0         \n",
            "                                                                 \n",
            " lstm_4 (LSTM)               (None, 2)                 48        \n",
            "                                                                 \n",
            "=================================================================\n",
            "Total params: 48\n",
            "Trainable params: 48\n",
            "Non-trainable params: 0\n",
            "_________________________________________________________________\n"
          ]
        }
      ]
    }
  ]
}