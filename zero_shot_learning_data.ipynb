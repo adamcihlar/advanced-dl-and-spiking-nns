{
  "nbformat": 4,
  "nbformat_minor": 0,
  "metadata": {
    "colab": {
      "provenance": []
    },
    "kernelspec": {
      "name": "python3",
      "display_name": "Python 3"
    },
    "language_info": {
      "name": "python"
    }
  },
  "cells": [
    {
      "cell_type": "code",
      "source": [
        "from google.colab import drive\n",
        "drive.mount('/content/drive')"
      ],
      "metadata": {
        "colab": {
          "base_uri": "https://localhost:8080/"
        },
        "id": "F5rGq6OiMRTj",
        "outputId": "ce659467-fd42-4bb2-d746-820acf424e71"
      },
      "execution_count": 3,
      "outputs": [
        {
          "output_type": "stream",
          "name": "stdout",
          "text": [
            "Mounted at /content/drive\n"
          ]
        }
      ]
    },
    {
      "cell_type": "code",
      "source": [
        "!unzip drive/MyDrive/Colab_Notebooks_2/data/AWA2.zip"
      ],
      "metadata": {
        "colab": {
          "base_uri": "https://localhost:8080/"
        },
        "id": "TN5F2JAhNRFc",
        "outputId": "0d5825ca-a6a0-4f30-e7d1-3f28df1bdfdb"
      },
      "execution_count": 4,
      "outputs": [
        {
          "output_type": "stream",
          "name": "stdout",
          "text": [
            "Archive:  drive/MyDrive/Colab_Notebooks_2/data/AWA2.zip\n",
            " extracting: AWA2/att_splits.mat     \n",
            " extracting: AWA2/binaryAtt_splits.mat  \n",
            " extracting: AWA2/res101.mat         \n",
            " extracting: AWA2/testclasses.txt    \n",
            " extracting: AWA2/trainclasses1.txt  \n",
            " extracting: AWA2/trainclasses2.txt  \n",
            " extracting: AWA2/trainclasses3.txt  \n",
            " extracting: AWA2/trainvalclasses.txt  \n",
            " extracting: AWA2/valclasses1.txt    \n",
            " extracting: AWA2/valclasses2.txt    \n",
            " extracting: AWA2/valclasses3.txt    \n"
          ]
        }
      ]
    },
    {
      "cell_type": "code",
      "source": [
        "!mv AWA2 drive/MyDrive/Colab_Notebooks_2/data/"
      ],
      "metadata": {
        "id": "umcdqZC2N6Rc"
      },
      "execution_count": 7,
      "outputs": []
    },
    {
      "cell_type": "code",
      "execution_count": 8,
      "metadata": {
        "id": "psVRsVACL08W"
      },
      "outputs": [],
      "source": [
        "import numpy as np\n",
        "import argparse\n",
        "from scipy import io, spatial\n",
        "import time\n",
        "from random import shuffle\n",
        "import random\n",
        "from sklearn import preprocessing\n",
        "from sklearn.metrics import confusion_matrix\n",
        "from sklearn.model_selection import train_test_split\n",
        " \n",
        "\n",
        "res101 = io.loadmat('drive/MyDrive/Colab_Notebooks_2/data/AWA2/res101.mat')\n",
        "att_splits=io.loadmat('drive/MyDrive/Colab_Notebooks_2/data/AWA2/att_splits.mat')"
      ]
    },
    {
      "cell_type": "code",
      "source": [
        "train_loc = 'train_loc'\n",
        "val_loc = 'val_loc'\n",
        "test_loc = 'test_unseen_loc'\n",
        " \n",
        "feat = res101['features']\n",
        "# Shape -> (dxN)\n",
        "X_train = feat[:, np.squeeze(att_splits[train_loc]-1)]\n",
        "X_val = feat[:, np.squeeze(att_splits[val_loc]-1)]\n",
        "X_test = feat[:, np.squeeze(att_splits[test_loc]-1)]\n"
      ],
      "metadata": {
        "id": "C0TXaGvhMMPi"
      },
      "execution_count": 9,
      "outputs": []
    },
    {
      "cell_type": "code",
      "source": [
        "print(X_train.shape)\n",
        "print(X_val.shape)\n",
        "print(X_test.shape)"
      ],
      "metadata": {
        "colab": {
          "base_uri": "https://localhost:8080/"
        },
        "id": "96TCMbysONLk",
        "outputId": "580471d2-2b1d-44a3-b663-ed4d618b11fe"
      },
      "execution_count": 13,
      "outputs": [
        {
          "output_type": "stream",
          "name": "stdout",
          "text": [
            "(2048, 20218)\n",
            "(2048, 9191)\n",
            "(2048, 7913)\n"
          ]
        }
      ]
    },
    {
      "cell_type": "code",
      "source": [
        "# labels for splits\n",
        "labels = res101['labels']\n",
        "labels_train = np.squeeze(labels[np.squeeze(att_splits[train_loc]-1)])\n",
        "labels_val = np.squeeze(labels[np.squeeze(att_splits[val_loc]-1)])\n",
        "labels_test = np.squeeze(labels[np.squeeze(att_splits[test_loc]-1)])"
      ],
      "metadata": {
        "colab": {
          "base_uri": "https://localhost:8080/"
        },
        "id": "75paTx03Ob1I",
        "outputId": "485f38be-e50c-4841-e340-fe966b8fe45a"
      },
      "execution_count": 15,
      "outputs": [
        {
          "output_type": "execute_result",
          "data": {
            "text/plain": [
              "(20218,)"
            ]
          },
          "metadata": {},
          "execution_count": 15
        }
      ]
    },
    {
      "cell_type": "code",
      "source": [
        "# labels divided to seen and unseen\n",
        "train_labels_seen = np.unique(labels_train)\n",
        "val_labels_unseen = np.unique(labels_val)\n",
        "test_labels_unseen = np.unique(labels_test)\n",
        "\n",
        "train_labels_seen = np.array([x-1 for x in train_labels_seen])\n",
        "\n",
        "val_labels_unseen= np.array([x-1 for x in val_labels_unseen])\n",
        "\n",
        "test_labels_unseen = np.array([x-1 for x in test_labels_unseen])"
      ],
      "metadata": {
        "id": "i46aSyvHOlhj"
      },
      "execution_count": 16,
      "outputs": []
    },
    {
      "cell_type": "code",
      "source": [
        "# semantic embeddings of the labels?\n",
        "i=0\n",
        "for labels in train_labels_seen:\n",
        "  labels_train[labels_train == labels] = i    \n",
        "  i+=1\n",
        " \n",
        "j=0\n",
        "for labels in val_labels_unseen:\n",
        "  labels_val[labels_val == labels] = j\n",
        "  j+=1\n",
        " \n",
        "k=0\n",
        "for labels in test_labels_unseen:\n",
        "  labels_test[labels_test == labels] = k\n",
        "  k+=1\n",
        " \n",
        "sig = att_splits['att']\n",
        "  # Shape -> (Number of attributes, Number of Classes)\n",
        "train_sig = sig[:, train_labels_seen]\n",
        "val_sig = sig[:, val_labels_unseen]\n",
        "test_sig = sig[:, test_labels_unseen]"
      ],
      "metadata": {
        "colab": {
          "base_uri": "https://localhost:8080/"
        },
        "id": "y1AohJ0JOomP",
        "outputId": "a702f1b7-872f-4f8e-ac8d-79657feef8fb"
      },
      "execution_count": 19,
      "outputs": [
        {
          "output_type": "execute_result",
          "data": {
            "text/plain": [
              "(85, 10)"
            ]
          },
          "metadata": {},
          "execution_count": 19
        }
      ]
    },
    {
      "cell_type": "code",
      "source": [
        "sorted_ind =  np.concatenate([val_labels_unseen , train_labels_seen], axis=0)\n",
        "sorted_ind=np.sort(sorted_ind)\n",
        "train_sig_fin = sig[:, sorted_ind]\n",
        "\n",
        "testClasses = test_labels_unseen\n",
        "trainClasses =  np.concatenate([train_labels_seen , val_labels_unseen], axis=0)\n",
        "\n",
        "sorted_ind_all =  np.concatenate([val_labels_unseen , train_labels_seen], axis=0)\n",
        "sorted_ind_all =  np.concatenate([sorted_ind_all , test_labels_unseen], axis=0)\n",
        "sorted_ind_all=np.sort(sorted_ind_all)"
      ],
      "metadata": {
        "id": "1h3_jv98PFwj"
      },
      "execution_count": 20,
      "outputs": []
    },
    {
      "cell_type": "code",
      "source": [
        "trainClasses"
      ],
      "metadata": {
        "colab": {
          "base_uri": "https://localhost:8080/"
        },
        "id": "i9UC7_DCPMn1",
        "outputId": "d6159056-14af-48f1-b462-dc6034abf158"
      },
      "execution_count": 23,
      "outputs": [
        {
          "output_type": "execute_result",
          "data": {
            "text/plain": [
              "array([ 0,  1,  2,  5,  7,  9, 10, 12, 13, 16, 17, 18, 21, 26, 27, 31, 32,\n",
              "       34, 35, 36, 37, 41, 42, 43, 44, 45, 48,  3,  4, 11, 14, 15, 19, 20,\n",
              "       24, 25, 28, 38, 39, 47])"
            ]
          },
          "metadata": {},
          "execution_count": 23
        }
      ]
    },
    {
      "cell_type": "code",
      "source": [
        "# Loads features\n",
        "X = res101['features'].transpose()\n",
        "Y_temp = res101['labels']\n",
        "Y_temp=Y_temp.transpose()\n",
        "Y_temp=Y_temp[0]\n",
        "Y = np.array([x-1 for x in Y_temp])\n",
        "Y =Y.astype(np.int32).transpose()\n",
        "#Y1 =np.array(Y1.tolist())\n",
        "ATTR =  att_splits['att']\n",
        "att =  att_splits['att']\n",
        "att=np.transpose(att)\n",
        "noExs = X.shape[0]"
      ],
      "metadata": {
        "id": "-5Jik_4SPdJR"
      },
      "execution_count": 24,
      "outputs": []
    },
    {
      "cell_type": "code",
      "source": [
        "\n",
        "trainDataX = []\n",
        "trainDataLabels = []\n",
        "trainDataAttrs = []\n",
        "\n",
        "testDataX = []\n",
        "testDataLabels = []\n",
        "testDataAttrs = []\n",
        "\n",
        "\n",
        "\n",
        "for ii in range(0,noExs):\n",
        "    if(Y[ii] in trainClasses):\n",
        "        trainDataX = trainDataX + [X[ii]]\n",
        "        trainDataLabels = trainDataLabels + [Y[ii]]\n",
        "        trainDataAttrs = trainDataAttrs + [att[Y[ii]]]\n",
        "    elif(Y[ii] in testClasses):\n",
        "        #print(str(Y[ii])  + \"  is in   \" + str(testClasses))\n",
        "        testDataX = testDataX + [X[ii]]\n",
        "        testDataLabels = testDataLabels + [Y[ii]]\n",
        "        testDataAttrs = testDataAttrs + [att[Y[ii]]]\n",
        "    else:\n",
        "        print('Fatal Error... Please check code/data')\n",
        "       \n",
        "       \n",
        "trainDataX = np.array(trainDataX)\n",
        "trainDataLabels = np.array(trainDataLabels)\n",
        "trainDataAttrs = np.array(trainDataAttrs)\n",
        "\n",
        "testDataX = np.array(testDataX)\n",
        "testDataLabels = np.array(testDataLabels)\n",
        "testDataAttrs = np.array(testDataAttrs)\n"
      ],
      "metadata": {
        "id": "ZKwEGqIJOLf2"
      },
      "execution_count": 25,
      "outputs": []
    },
    {
      "cell_type": "code",
      "source": [
        "import pandas as pd\n",
        "print(f'train data shape {trainDataX.shape}')\n",
        "print(f'train data labels shape {trainDataLabels.shape}') # no one hot encoded\n",
        "print(f'unique train data labels {pd.Series(trainDataLabels).unique()}') \n",
        "print(f'train data auxiliary attributes (embeddings of the labels) {trainDataAttrs.shape}') \n"
      ],
      "metadata": {
        "colab": {
          "base_uri": "https://localhost:8080/"
        },
        "id": "4kkXRwgDPjCY",
        "outputId": "c5a93630-38b3-46d1-c45e-954fc040cf97"
      },
      "execution_count": 40,
      "outputs": [
        {
          "output_type": "stream",
          "name": "stdout",
          "text": [
            "train data shape (29409, 2048)\n",
            "train data labels shape (29409,)\n",
            "unique train data labels [ 0  3 36 32 24 45 48  4 39 18 21  7 38 19  1 25 13 17  2 14 42 11 15 43\n",
            " 35 20  5 41 44 28 47 27  9 10 16 26 12 34 31 37]\n",
            "train data auxiliary attributes (embeddings) (29409, 85)\n"
          ]
        }
      ]
    },
    {
      "cell_type": "code",
      "source": [
        "trainDataAttrs[trainDataLabels==0] # same embeddings for one label (regardless the particular input image)"
      ],
      "metadata": {
        "colab": {
          "base_uri": "https://localhost:8080/"
        },
        "id": "F3JJbo4qQn1C",
        "outputId": "fd6777d8-b505-406a-e108-afe54f0cd044"
      },
      "execution_count": 42,
      "outputs": [
        {
          "output_type": "execute_result",
          "data": {
            "text/plain": [
              "array([[-0.00375358, -0.00375358, -0.00375358, ...,  0.00882092,\n",
              "         0.03640974,  0.03145501],\n",
              "       [-0.00375358, -0.00375358, -0.00375358, ...,  0.00882092,\n",
              "         0.03640974,  0.03145501],\n",
              "       [-0.00375358, -0.00375358, -0.00375358, ...,  0.00882092,\n",
              "         0.03640974,  0.03145501],\n",
              "       ...,\n",
              "       [-0.00375358, -0.00375358, -0.00375358, ...,  0.00882092,\n",
              "         0.03640974,  0.03145501],\n",
              "       [-0.00375358, -0.00375358, -0.00375358, ...,  0.00882092,\n",
              "         0.03640974,  0.03145501],\n",
              "       [-0.00375358, -0.00375358, -0.00375358, ...,  0.00882092,\n",
              "         0.03640974,  0.03145501]])"
            ]
          },
          "metadata": {},
          "execution_count": 42
        }
      ]
    },
    {
      "cell_type": "code",
      "source": [
        "import pandas as pd\n",
        "print(f'test data shape {testDataX.shape}')\n",
        "print(f'test data labels shape {testDataLabels.shape}') # no one hot encoded\n",
        "print(f'unique test data labels {pd.Series(testDataLabels).unique()}') \n",
        "print(f'test data auxiliary attributes (embeddings of the labels) {testDataAttrs.shape}') \n"
      ],
      "metadata": {
        "colab": {
          "base_uri": "https://localhost:8080/"
        },
        "id": "dL_l2HXQQ710",
        "outputId": "db135383-7559-4fcf-91a4-b5678c270807"
      },
      "execution_count": 44,
      "outputs": [
        {
          "output_type": "stream",
          "name": "stdout",
          "text": [
            "test data shape (7913, 2048)\n",
            "test data labels shape (7913,)\n",
            "unique test data labels [29  8 40 49 30  6 33 23 22 46]\n",
            "test data auxiliary attributes (embeddings of the labels) (7913, 85)\n"
          ]
        }
      ]
    }
  ]
}